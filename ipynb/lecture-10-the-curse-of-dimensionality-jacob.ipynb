{
 "cells": [
  {
   "cell_type": "code",
   "execution_count": null,
   "metadata": {},
   "outputs": [],
   "source": [
    "import numpy as np\n",
    "import pandas as pd\n",
    "import matplotlib.pyplot as plt\n",
    "%matplotlib inline"
   ]
  },
  {
   "cell_type": "code",
   "execution_count": null,
   "metadata": {},
   "outputs": [],
   "source": [
    "from sklearn.datasets import make_classification"
   ]
  },
  {
   "cell_type": "code",
   "execution_count": null,
   "metadata": {},
   "outputs": [],
   "source": [
    "from sklearn.neighbors import KNeighborsClassifier\n",
    "from sklearn.tree import DecisionTreeClassifier\n",
    "from sklearn.linear_model import LogisticRegression\n",
    "from sklearn.svm import SVC"
   ]
  },
  {
   "cell_type": "markdown",
   "metadata": {},
   "source": [
    "# The Curse of Dimensionality"
   ]
  },
  {
   "cell_type": "code",
   "execution_count": null,
   "metadata": {},
   "outputs": [],
   "source": [
    "n_vals = np.logspace(1, 4, 20)"
   ]
  },
  {
   "cell_type": "code",
   "execution_count": null,
   "metadata": {},
   "outputs": [],
   "source": [
    "datasets = { int(n): make_classification(int(n)) for n in n_vals }\n",
    "\n",
    "models = {\n",
    "    'knn' : KNeighborsClassifier(),\n",
    "    'lr' : LogisticRegression(),\n",
    "    'dt' : DecisionTreeClassifier(),\n",
    "    'svm' : SVC(),\n",
    "}"
   ]
  },
  {
   "cell_type": "code",
   "execution_count": null,
   "metadata": {},
   "outputs": [],
   "source": [
    "from time import time"
   ]
  },
  {
   "cell_type": "code",
   "execution_count": null,
   "metadata": {},
   "outputs": [],
   "source": [
    "def time_fit(data, model):\n",
    "    start = time()\n",
    "    model.fit(*data)\n",
    "    fit_time = time() - start\n",
    "    return fit_time\n",
    "\n",
    "def time_predict(data, model):\n",
    "    start = time()\n",
    "    model.predict(data[0])\n",
    "    predict_time = time() - start\n",
    "    return predict_time\n",
    "\n",
    "def fit_predict_model_on_n(model_name, n):\n",
    "    model = models[model_name]\n",
    "    dataset = datasets[n]\n",
    "    fit_time = time_fit(dataset, model)\n",
    "    predict_time = time_predict(dataset, model)\n",
    "    return {\n",
    "        'model_name' : model_name,\n",
    "        'n' : n,\n",
    "        'fit_time' : fit_time,\n",
    "        'predict_time' : predict_time\n",
    "    }"
   ]
  },
  {
   "cell_type": "code",
   "execution_count": null,
   "metadata": {},
   "outputs": [],
   "source": [
    "results = []\n",
    "for n in datasets.keys():\n",
    "    for model in models.keys():\n",
    "        results.append(fit_predict_model_on_n(model, n))"
   ]
  },
  {
   "cell_type": "code",
   "execution_count": null,
   "metadata": {},
   "outputs": [],
   "source": [
    "results_df = pd.DataFrame(results)"
   ]
  },
  {
   "cell_type": "code",
   "execution_count": null,
   "metadata": {},
   "outputs": [],
   "source": [
    "results_df.head()"
   ]
  },
  {
   "cell_type": "code",
   "execution_count": null,
   "metadata": {},
   "outputs": [],
   "source": [
    "fig, (ax1, ax2) = plt.subplots(1, 2, figsize=(20,5))\n",
    "for model_name in results_df.model_name.unique():\n",
    "    model_results_df = results_df[results_df.model_name == model_name]\n",
    "\n",
    "    ax1.set_title('Fit Time')\n",
    "    ax1.plot(model_results_df.n, model_results_df.fit_time, label=model_name)\n",
    "    ax1.legend()\n",
    "    \n",
    "    ax2.set_title('Prediction Time')\n",
    "    ax2.plot(model_results_df.n, model_results_df.predict_time, label=model_name)\n",
    "    ax2.legend()"
   ]
  },
  {
   "cell_type": "code",
   "execution_count": null,
   "metadata": {},
   "outputs": [],
   "source": [
    "fig, (ax1, ax2) = plt.subplots(1, 2, figsize=(20,5))\n",
    "for model_name in results_df.model_name.unique():\n",
    "    model_results_df = results_df[results_df.model_name == model_name]\n",
    "\n",
    "    ax1.set_title('Fit Time')\n",
    "    ax1.plot(model_results_df.n, model_results_df.fit_time, label=model_name)\n",
    "    ax1.set_xscale('log')\n",
    "    ax1.legend()\n",
    "    \n",
    "    ax2.set_title('Prediction Time')\n",
    "    ax2.plot(model_results_df.n, model_results_df.predict_time, label=model_name)\n",
    "    ax2.set_xscale('log')\n",
    "    ax2.legend()"
   ]
  },
  {
   "cell_type": "code",
   "execution_count": null,
   "metadata": {},
   "outputs": [],
   "source": []
  }
 ],
 "metadata": {
  "kernelspec": {
   "display_name": "Python 3",
   "language": "python",
   "name": "python3"
  },
  "language_info": {
   "codemirror_mode": {
    "name": "ipython",
    "version": 3
   },
   "file_extension": ".py",
   "mimetype": "text/x-python",
   "name": "python",
   "nbconvert_exporter": "python",
   "pygments_lexer": "ipython3",
   "version": "3.7.0"
  }
 },
 "nbformat": 4,
 "nbformat_minor": 2
}
