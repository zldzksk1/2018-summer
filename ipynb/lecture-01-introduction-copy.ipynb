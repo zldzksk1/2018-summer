{
 "cells": [
  {
   "cell_type": "markdown",
   "metadata": {},
   "source": [
    "# UCLA Data Science Intensive"
   ]
  },
  {
   "cell_type": "markdown",
   "metadata": {},
   "source": [
    "10-week program. "
   ]
  },
  {
   "cell_type": "markdown",
   "metadata": {},
   "source": [
    "Two main threads:\n",
    "\n",
    "1. Modeling and Analysis\n",
    "2. Engineeering and Infrastructure"
   ]
  },
  {
   "cell_type": "markdown",
   "metadata": {},
   "source": [
    "| Week | Modeling and Analysis | Engineering and Infrastructure | Course |\n",
    "|:----|:----|:----:|:---:|\n",
    "| 1  | Statistical Learning | Bash, AWS EC2, and Conda | 450-1 |\n",
    "| 2  | Linear Regression | Docker and Jupyter | 450-1 |\n",
    "| 3  | Classification | Docker and Postgres | 450-1 |\n",
    "| 4  | Introduction to Data Engineering | AWS and S3 | 450-3 |\n",
    "| 5  | Data Transformation Pipelines | Docker Compose and Mongo | 450-3 |\n",
    "| 6  | Distributed Processing | Hadoop and Advanced SQL | 450-3 |\n",
    "| 7  | Principal component analysis | Tableau | 450-2 |\n",
    "| 8  | Clustering | D3 and Altair | 450-2 |\n",
    "| 9  | Linear Model Selection and Regularization | Project Presentation | 450-4 |\n",
    "| 10 | Tree-Based Models | Project Presentation | 450-4 |\n"
   ]
  },
  {
   "cell_type": "markdown",
   "metadata": {},
   "source": [
    "### Core Tools"
   ]
  },
  {
   "cell_type": "markdown",
   "metadata": {},
   "source": [
    "3. Jupyter/JupyterHub\n",
    "4. Bash\n",
    "1. Conda\n",
    "5. Atom\n",
    "6. git\n",
    "7. Docker and Docker Compose"
   ]
  },
  {
   "cell_type": "markdown",
   "metadata": {},
   "source": [
    "### Languages"
   ]
  },
  {
   "cell_type": "markdown",
   "metadata": {},
   "source": [
    "1. R\n",
    "2. Python\n",
    "3. SQL"
   ]
  },
  {
   "cell_type": "markdown",
   "metadata": {},
   "source": [
    "### Services"
   ]
  },
  {
   "cell_type": "markdown",
   "metadata": {},
   "source": [
    "1. Canvas\n",
    "2. Slack\n",
    "1. AWS - EC2 and S3\n",
    "2. Github"
   ]
  },
  {
   "cell_type": "markdown",
   "metadata": {},
   "source": [
    "### Visualization"
   ]
  },
  {
   "cell_type": "markdown",
   "metadata": {},
   "source": [
    "1. built-in R\n",
    "1. ggplot\n",
    "1. matplotlib \n",
    "1. pandas\n",
    "1. seaborn\n",
    "1. Tableau\n",
    "1. Altair"
   ]
  },
  {
   "cell_type": "markdown",
   "metadata": {},
   "source": [
    "### Advanced Tools\n",
    "\n",
    "1. Postgres\n",
    "1. Mongo\n",
    "1. Apache Spark"
   ]
  }
 ],
 "metadata": {
  "kernelspec": {
   "display_name": "Python 3",
   "language": "python",
   "name": "python3"
  },
  "language_info": {
   "codemirror_mode": {
    "name": "ipython",
    "version": 3
   },
   "file_extension": ".py",
   "mimetype": "text/x-python",
   "name": "python",
   "nbconvert_exporter": "python",
   "pygments_lexer": "ipython3",
   "version": "3.6.5"
  }
 },
 "nbformat": 4,
 "nbformat_minor": 2
}
